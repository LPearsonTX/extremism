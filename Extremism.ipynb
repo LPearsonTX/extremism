{
 "cells": [
  {
   "cell_type": "markdown",
   "metadata": {},
   "source": [
    "# GWU Extremism Data for use in a dash web application"
   ]
  },
  {
   "cell_type": "markdown",
   "metadata": {},
   "source": [
    "## Libraries"
   ]
  },
  {
   "cell_type": "code",
   "execution_count": 3,
   "metadata": {},
   "outputs": [],
   "source": [
    "# Data\n",
    "import pandas as pd\n",
    "import numpy as np\n",
    "\n",
    "# Plotting\n",
    "import plotly.express as px\n",
    "\n",
    "# Dash application (JupyterDash)\n",
    "from jupyter_dash import JupyterDash # change jupyter_dash to dash for regular applications\n",
    "import dash_core_components as dcc\n",
    "import dash_html_components as html\n",
    "import dash_bootstrap_components as dbc\n",
    "from dash.dependencies import Input, Output"
   ]
  },
  {
   "cell_type": "markdown",
   "metadata": {},
   "source": [
    "## Load and Clean Data"
   ]
  },
  {
   "cell_type": "code",
   "execution_count": 5,
   "metadata": {},
   "outputs": [],
   "source": [
    "# Load and clean data\n",
    "data_file = 'CapitolHillTracker11721.xlsx'\n",
    "sheet_name='Capitol Hill'\n",
    "extremism_data = pd.read_excel(data_file, sheet_name = sheet_name)\n",
    "\n",
    "# get data for age of arrest in bins\n",
    "age_arrest_names = ['<20','20-29','30-39','40-49','50-59','60-69','70-79','80+']\n",
    "age_arrest_bins = [0, 19, 29, 39, 49, 59, 69, 79, np.inf]\n",
    "\n",
    "#Get numeric column without the string 'Unknowns' in order to use the cut function for binning\n",
    "extremism_data['age'] = [None if x =='Unknown' else x for x in extremism_data['agearrest']] \n",
    "extremism_data['AgeRange'] = pd.cut(extremism_data['age'],age_arrest_bins, labels=age_arrest_names)\n",
    "# Add 'Unknown' category back into the AgeRange column\n",
    "extremism_data['AgeRange'] = extremism_data['AgeRange'].cat.add_categories('Unknown')\n",
    "extremism_data['AgeRange'] = extremism_data['AgeRange'].fillna('Unknown')\n",
    "\n"
   ]
  },
  {
   "cell_type": "markdown",
   "metadata": {},
   "source": [
    "## Choropleth Map"
   ]
  },
  {
   "cell_type": "code",
   "execution_count": 6,
   "metadata": {},
   "outputs": [],
   "source": [
    "# CHOROPLETH MAP\n",
    "## Choropleth Map Data\n",
    "states = extremism_data['state'].value_counts().to_frame().reset_index()\n",
    "states.columns = ['State','Count']\n",
    "\n",
    "## Choropleth Map Figure\n",
    "map_fig = px.choropleth(data_frame = states, \n",
    "                        locations='State', \n",
    "                        color='Count', \n",
    "                        locationmode=\"USA-states\",  \n",
    "                        scope=\"usa\", \n",
    "                        color_continuous_scale='Greys',\n",
    "                       title=\"Number of Cases per State of Residence\")"
   ]
  },
  {
   "cell_type": "markdown",
   "metadata": {},
   "source": [
    "## Bar Chart"
   ]
  },
  {
   "cell_type": "code",
   "execution_count": 7,
   "metadata": {},
   "outputs": [],
   "source": [
    "# barchart data\n",
    "bar_data = extremism_data.groupby(['gender','AgeRange']).size().reset_index(name='Gender_count')\n",
    "bar_data_filtered = bar_data[bar_data['Gender_count'] > 0]\n",
    "bar_data_filtered = bar_data_filtered.sort_values(by='AgeRange', ascending=False).sort_values(by='gender', ascending=False)\n",
    "\n",
    "# barchart figure\n",
    "bar_fig = px.bar(bar_data_filtered,\n",
    "            y='AgeRange',\n",
    "            x=\"Gender_count\",\n",
    "            color='gender',\n",
    "            barmode='stack',\n",
    "            orientation='h',\n",
    "            color_discrete_sequence=['Grey','LightGrey'],\n",
    "            title=\"Age at time of arrest\",\n",
    "            labels={ # replaces default labels by column name\n",
    "                \"gender\": \"Gender\", 'AgeRange':'','Gender_count':''\n",
    "            },\n",
    "            )\n"
   ]
  },
  {
   "cell_type": "markdown",
   "metadata": {},
   "source": [
    "## Build Dash App from Components"
   ]
  },
  {
   "cell_type": "code",
   "execution_count": 8,
   "metadata": {},
   "outputs": [
    {
     "name": "stdout",
     "output_type": "stream",
     "text": [
      "Dash app running on http://127.0.0.1:8050/\n"
     ]
    }
   ],
   "source": [
    "# Build App\n",
    "app = JupyterDash(external_stylesheets=[dbc.themes.FLATLY])\n",
    "\n",
    "overview_message = 'Number of federal cases: ' + str(len(extremism_data))\n",
    "note_message = ''' Note: The data depicted were collected from federal cases only. \n",
    "A collection of individuals charged in the District of Columbia is available on the Program on Extremism's website, \n",
    "but data were not gathered from these cases due to inconsistencies in available documents and reporting.'\n",
    "'''\n",
    "choropleth_map = html.Div(dcc.Graph(id='map',figure=map_fig))\n",
    "\n",
    "bar_chart = html.Div(dcc.Graph(id='bar',figure=bar_fig))\n",
    "\n",
    "app.layout = html.Div([\n",
    "    dbc.Row([\n",
    "        dbc.Col(overview_message)\n",
    "    ]),\n",
    "    dbc.Row([\n",
    "        dbc.Col(choropleth_map),\n",
    "        dbc.Col(bar_chart)\n",
    "    ])\n",
    "])    \n",
    "\n",
    "# Run app and display result inline in the notebook\n",
    "app.run_server(mode='external')"
   ]
  }
 ],
 "metadata": {
  "kernelspec": {
   "display_name": "Python 3",
   "language": "python",
   "name": "python3"
  },
  "language_info": {
   "codemirror_mode": {
    "name": "ipython",
    "version": 3
   },
   "file_extension": ".py",
   "mimetype": "text/x-python",
   "name": "python",
   "nbconvert_exporter": "python",
   "pygments_lexer": "ipython3",
   "version": "3.7.7"
  }
 },
 "nbformat": 4,
 "nbformat_minor": 4
}
